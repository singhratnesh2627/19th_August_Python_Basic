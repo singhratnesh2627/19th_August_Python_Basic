{
 "cells": [
  {
   "cell_type": "markdown",
   "id": "4573d304-c4d8-455a-8c19-c3d7392ae958",
   "metadata": {},
   "source": [
    "TOPIC: Python Basics Variable"
   ]
  },
  {
   "cell_type": "markdown",
   "id": "b7dcdac2-1bf7-4ee7-896c-3ec62cef7896",
   "metadata": {},
   "source": [
    "1. Declare two variables, `x` and `y`, and assign them integer values. Swap the\n",
    "values of these variables without using any temporary variable."
   ]
  },
  {
   "cell_type": "code",
   "execution_count": 2,
   "id": "9dcc1f64-5a4f-4ed0-aa09-ce7f1e23069f",
   "metadata": {},
   "outputs": [
    {
     "name": "stdout",
     "output_type": "stream",
     "text": [
      "After swapping:\n",
      "x = 22\n",
      "y = 15\n"
     ]
    }
   ],
   "source": [
    "# Declaring two variables x and y\n",
    "x = 15\n",
    "y = 22\n",
    "\n",
    "#Using tuples unpacking to assign value of x to y and y to x\n",
    "\n",
    "x, y = y, x\n",
    "\n",
    "print(\"After swapping:\")\n",
    "print(\"x =\", x)\n",
    "print(\"y =\", y)"
   ]
  },
  {
   "cell_type": "markdown",
   "id": "947ced9b-8c65-4635-a6cc-266597410085",
   "metadata": {},
   "source": [
    "2. Create a program that calculates the area of a rectangle. Take the length and\n",
    "width as inputs from the user and store them in variables. Calculate and\n",
    "display the area."
   ]
  },
  {
   "cell_type": "code",
   "execution_count": 3,
   "id": "479e40e1-7bd0-4a66-9c1f-757c88d08114",
   "metadata": {},
   "outputs": [
    {
     "name": "stdin",
     "output_type": "stream",
     "text": [
      "Enter the length of rectangle 30\n",
      "Enter the width of rectangle 40\n"
     ]
    },
    {
     "name": "stdout",
     "output_type": "stream",
     "text": [
      "Area of the rectangle is: 1200\n"
     ]
    }
   ],
   "source": [
    "# Taking input from user as Length and Breadth\n",
    "L = int(input(\"Enter the length of rectangle\"))\n",
    "B = int(input(\"Enter the width of rectangle\"))\n",
    "\n",
    "# we know that area = length* Width\n",
    "\n",
    "A = L*B\n",
    " # display the area\n",
    "print(\"Area of the rectangle is:\", A)"
   ]
  },
  {
   "cell_type": "markdown",
   "id": "d65f25db-dc3d-4949-b3bb-3d7c49b7991f",
   "metadata": {},
   "source": [
    "3.Write a Python program that converts temperatures from Celsius to\n",
    "Fahrenheit. Take the temperature in Celsius as input, store it in a variable,\n",
    "convert it to Fahrenheit, and display the result."
   ]
  },
  {
   "cell_type": "code",
   "execution_count": 8,
   "id": "719768bd-287f-488e-8a0d-a3663bf92dfb",
   "metadata": {},
   "outputs": [
    {
     "name": "stdin",
     "output_type": "stream",
     "text": [
      "Enter Celsius  temperature 36\n"
     ]
    },
    {
     "name": "stdout",
     "output_type": "stream",
     "text": [
      "Temperature in Fahrenheit is: 96.8\n"
     ]
    }
   ],
   "source": [
    "# Taking input in Celsius\n",
    "\n",
    "C = float(input(\"Enter Celsius  temperature\"))\n",
    "\n",
    "# applying formula to convert celsius to Fahrenheit\n",
    "\n",
    "F = (9/5)*C+32\n",
    "\n",
    "# Print Result\n",
    "\n",
    "print(\"Temperature in Fahrenheit is:\", F)"
   ]
  },
  {
   "cell_type": "markdown",
   "id": "d3bb594d-329b-4c96-95ea-5ca47fea5143",
   "metadata": {},
   "source": [
    "TOPIC: String Based Questions"
   ]
  },
  {
   "cell_type": "code",
   "execution_count": null,
   "id": "1c5cd2d7-c6be-4324-87d4-a62a31351c2f",
   "metadata": {},
   "outputs": [],
   "source": [
    "1. Write a Python program that takes a string as input and prints the length of\n",
    "the string."
   ]
  },
  {
   "cell_type": "code",
   "execution_count": 14,
   "id": "28ba9c05-f1e0-409c-bddb-77bc1e16ee86",
   "metadata": {},
   "outputs": [
    {
     "name": "stdin",
     "output_type": "stream",
     "text": [
      "Enter a string ratnesh\n"
     ]
    },
    {
     "name": "stdout",
     "output_type": "stream",
     "text": [
      "The length of the string is: 7\n"
     ]
    }
   ],
   "source": [
    "# take input in string\n",
    "\n",
    "input_string = str(input(\"Enter a string\"))\n",
    "\n",
    "# calculate length using len() function\n",
    "\n",
    "string_length = len(input_string)\n",
    "\n",
    "#Print result\n",
    "\n",
    "print(\"The length of the string is:\", string_length)"
   ]
  },
  {
   "cell_type": "markdown",
   "id": "824f7d97-e904-402d-a53f-9816aa8c801c",
   "metadata": {},
   "source": [
    "2. Create a program that takes a sentence from the user and counts the number\n",
    "of vowels (a, e, i, o, u) in the string."
   ]
  },
  {
   "cell_type": "code",
   "execution_count": 17,
   "id": "24735586-950f-4576-97bc-29b2ee27ff0d",
   "metadata": {},
   "outputs": [
    {
     "name": "stdin",
     "output_type": "stream",
     "text": [
      "Enter a sentence: My name is Ratnesh Kumar Singh\n"
     ]
    },
    {
     "name": "stdout",
     "output_type": "stream",
     "text": [
      "The count of vowel is: 8\n"
     ]
    }
   ],
   "source": [
    "# Take input from user\n",
    "\n",
    "sentence = input(\"Enter a sentence:\")\n",
    "\n",
    "# initialize a variable to count vowels\n",
    "vowel_count = 0\n",
    "\n",
    "# define a string that contains vowels to check\n",
    "\n",
    "vowels = \"aeiouAEIOU\"\n",
    "\n",
    "#iterate each character in the sentence\n",
    "\n",
    "for i in sentence:\n",
    "    if i in vowels:\n",
    "        vowel_count += 1\n",
    "\n",
    "#Diplay the count of vowels\n",
    "\n",
    "print(\"The count of vowel is:\", vowel_count)"
   ]
  },
  {
   "cell_type": "markdown",
   "id": "a641bbb5-0f05-4a3f-947d-28588d66f2ff",
   "metadata": {},
   "source": [
    "3. Given a string, reverse the order of characters using string slicing and print\n",
    "the reversed string."
   ]
  },
  {
   "cell_type": "code",
   "execution_count": 19,
   "id": "de4c277f-0c53-4871-8e79-101e34bcc680",
   "metadata": {},
   "outputs": [
    {
     "name": "stdin",
     "output_type": "stream",
     "text": [
      "Enter a string Ratnesh\n"
     ]
    },
    {
     "name": "stdout",
     "output_type": "stream",
     "text": [
      "Reverse string is: hsentaR\n"
     ]
    }
   ],
   "source": [
    "# User input\n",
    "\n",
    "input_string = str(input(\"Enter a string\"))\n",
    "                   \n",
    "# reverse using string slicing\n",
    "    \n",
    "reverse_string = input_string [::-1]\n",
    "                   \n",
    "# Print reverse string\n",
    "                   \n",
    "print(\"Reversed string is:\", reverse_string )"
   ]
  },
  {
   "cell_type": "markdown",
   "id": "f6599800-960e-4648-9e8e-013721259fe4",
   "metadata": {},
   "source": [
    "4. Write a program that takes a string as input and checks if it is a palindrome"
   ]
  },
  {
   "cell_type": "code",
   "execution_count": 24,
   "id": "9aa68dfe-19bf-496c-ace9-457ef8c339f7",
   "metadata": {},
   "outputs": [
    {
     "name": "stdin",
     "output_type": "stream",
     "text": [
      "Enter a string: RADAr\n"
     ]
    },
    {
     "name": "stdout",
     "output_type": "stream",
     "text": [
      "The string is a palindrome\n"
     ]
    }
   ],
   "source": [
    "# Take input from user\n",
    "\n",
    "input_string = str(input(\"Enter a string:\"))\n",
    "\n",
    "# remove spaces if any and change to lowercase\n",
    "\n",
    "cleaned_string = input_string.replace(\" \", \"\").lower()\n",
    "\n",
    "reversed_string = cleaned_string[::-1]\n",
    "\n",
    "# check the condition if cleaned and reversed string both are same\n",
    "\n",
    "if reversed_string == cleaned_string:\n",
    "    print(\"The string is a palindrome\")\n",
    "else:\n",
    "    print(\"The string is not palindrome\")\n"
   ]
  },
  {
   "cell_type": "markdown",
   "id": "377016aa-e1c8-4790-b230-4f06426859fc",
   "metadata": {},
   "source": [
    "5. Create a program that takes a string as input and removes all the spaces from\n",
    "it. Print the modified string without spaces."
   ]
  },
  {
   "cell_type": "code",
   "execution_count": 26,
   "id": "e8745d49-ead5-4f72-ac78-155f16ce775c",
   "metadata": {},
   "outputs": [
    {
     "name": "stdin",
     "output_type": "stream",
     "text": [
      "Enter a string:   my name    is\n"
     ]
    },
    {
     "name": "stdout",
     "output_type": "stream",
     "text": [
      "Modified string is : mynameis\n"
     ]
    }
   ],
   "source": [
    "# Take string as user input\n",
    "\n",
    "input_string = input(\"Enter a string:\")\n",
    "\n",
    "# Remove spaces from input_string using replace() function\n",
    "\n",
    "modified_string = input_string.replace(\" \", \"\")\n",
    "\n",
    "# Print output\n",
    "\n",
    "print(\"Modified string is :\", modified_string)"
   ]
  }
 ],
 "metadata": {
  "kernelspec": {
   "display_name": "Python 3 (ipykernel)",
   "language": "python",
   "name": "python3"
  },
  "language_info": {
   "codemirror_mode": {
    "name": "ipython",
    "version": 3
   },
   "file_extension": ".py",
   "mimetype": "text/x-python",
   "name": "python",
   "nbconvert_exporter": "python",
   "pygments_lexer": "ipython3",
   "version": "3.10.8"
  }
 },
 "nbformat": 4,
 "nbformat_minor": 5
}
